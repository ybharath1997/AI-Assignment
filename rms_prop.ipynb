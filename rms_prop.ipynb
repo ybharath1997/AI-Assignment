{
 "cells": [
  {
   "cell_type": "code",
   "execution_count": 24,
   "metadata": {},
   "outputs": [],
   "source": [
    "import numpy as np \n",
    "import pandas as pd \n",
    "import matplotlib.pyplot as plt\n",
    "from sklearn.model_selection import train_test_split\n",
    "\n",
    "from keras.datasets import mnist\n",
    "from keras.models import Sequential\n",
    "from keras.callbacks import EarlyStopping\n",
    "from keras.optimizers import *\n",
    "from keras.layers import Conv2D, MaxPooling2D\n",
    "from keras.utils.np_utils import to_categorical\n",
    "from keras.preprocessing.image import ImageDataGenerator\n",
    "from keras.layers import Dense, Dropout, Lambda, Flatten, Activation, Dropout\n",
    "\n",
    "%matplotlib inline"
   ]
  },
  {
   "cell_type": "raw",
   "metadata": {},
   "source": [
    "(x_train, y_train), (x_test, y_test) = mnist.load_data()"
   ]
  },
  {
   "cell_type": "code",
   "execution_count": 12,
   "metadata": {},
   "outputs": [
    {
     "data": {
      "text/plain": [
       "(60000, 28, 28)"
      ]
     },
     "execution_count": 12,
     "metadata": {},
     "output_type": "execute_result"
    }
   ],
   "source": [
    "x_train.shape"
   ]
  },
  {
   "cell_type": "code",
   "execution_count": 13,
   "metadata": {},
   "outputs": [],
   "source": [
    "x_train = x_train.reshape(x_train.shape[0], 784).astype('float32')\n",
    "x_test = x_test.reshape(x_test.shape[0], 784).astype('float32')\n",
    "x_train /= 255\n",
    "x_test /= 255"
   ]
  },
  {
   "cell_type": "code",
   "execution_count": 14,
   "metadata": {},
   "outputs": [
    {
     "data": {
      "text/plain": [
       "(60000,)"
      ]
     },
     "execution_count": 14,
     "metadata": {},
     "output_type": "execute_result"
    }
   ],
   "source": [
    "number_of_classes = 10\n",
    "y_train.shape"
   ]
  },
  {
   "cell_type": "code",
   "execution_count": 15,
   "metadata": {},
   "outputs": [],
   "source": [
    "y_train = to_categorical(y_train,number_of_classes)\n",
    "y_test = to_categorical(y_test,number_of_classes)"
   ]
  },
  {
   "cell_type": "code",
   "execution_count": 16,
   "metadata": {},
   "outputs": [
    {
     "data": {
      "text/plain": [
       "(10000, 10)"
      ]
     },
     "execution_count": 16,
     "metadata": {},
     "output_type": "execute_result"
    }
   ],
   "source": [
    "y_test.shape"
   ]
  },
  {
   "cell_type": "code",
   "execution_count": 25,
   "metadata": {},
   "outputs": [],
   "source": [
    "#model\n",
    "model = Sequential()\n",
    "model.add(Dense(784, input_shape = (784,)))\n",
    "model.add(Activation('relu'))\n",
    "\n",
    "model.add(Dense(784))\n",
    "model.add(Activation('relu'))\n",
    "\n",
    "model.add(Dense(10))\n",
    "model.add(Activation('softmax'))\n",
    "\n",
    "model.compile(optimizer = 'rmsprop', loss='categorical_crossentropy', metrics=['accuracy'])"
   ]
  },
  {
   "cell_type": "code",
   "execution_count": 26,
   "metadata": {
    "scrolled": false
   },
   "outputs": [
    {
     "name": "stdout",
     "output_type": "stream",
     "text": [
      "Train on 60000 samples, validate on 10000 samples\n",
      "Epoch 1/20\n",
      "60000/60000 [==============================] - 53s 879us/step - loss: 0.1952 - acc: 0.9430 - val_loss: 0.1301 - val_acc: 0.9652\n",
      "Epoch 2/20\n",
      "60000/60000 [==============================] - 62s 1ms/step - loss: 0.1136 - acc: 0.9720 - val_loss: 0.1592 - val_acc: 0.9664\n",
      "Epoch 3/20\n",
      "60000/60000 [==============================] - 59s 984us/step - loss: 0.1009 - acc: 0.9784 - val_loss: 0.1347 - val_acc: 0.9747\n",
      "Epoch 4/20\n",
      "60000/60000 [==============================] - 59s 980us/step - loss: 0.0904 - acc: 0.9822 - val_loss: 0.1551 - val_acc: 0.9742\n",
      "Epoch 5/20\n",
      "60000/60000 [==============================] - 61s 1ms/step - loss: 0.0850 - acc: 0.9845 - val_loss: 0.1687 - val_acc: 0.9728\n",
      "Epoch 6/20\n",
      "60000/60000 [==============================] - 63s 1ms/step - loss: 0.0778 - acc: 0.9854 - val_loss: 0.1410 - val_acc: 0.9780\n",
      "Epoch 7/20\n",
      "60000/60000 [==============================] - 64s 1ms/step - loss: 0.0704 - acc: 0.9880 - val_loss: 0.1745 - val_acc: 0.9782\n",
      "Epoch 8/20\n",
      "60000/60000 [==============================] - 63s 1ms/step - loss: 0.0678 - acc: 0.9893 - val_loss: 0.1729 - val_acc: 0.9776\n",
      "Epoch 9/20\n",
      "60000/60000 [==============================] - 67s 1ms/step - loss: 0.0653 - acc: 0.9900 - val_loss: 0.1784 - val_acc: 0.9771\n",
      "Epoch 10/20\n",
      "60000/60000 [==============================] - 66s 1ms/step - loss: 0.0626 - acc: 0.9908 - val_loss: 0.1687 - val_acc: 0.9810\n",
      "Epoch 11/20\n",
      "60000/60000 [==============================] - 63s 1ms/step - loss: 0.0574 - acc: 0.9918 - val_loss: 0.1977 - val_acc: 0.9775\n",
      "Epoch 12/20\n",
      "60000/60000 [==============================] - 64s 1ms/step - loss: 0.0598 - acc: 0.9922 - val_loss: 0.1980 - val_acc: 0.9789\n",
      "Epoch 13/20\n",
      "60000/60000 [==============================] - 64s 1ms/step - loss: 0.0503 - acc: 0.9933 - val_loss: 0.2155 - val_acc: 0.9778\n",
      "Epoch 14/20\n",
      "60000/60000 [==============================] - 65s 1ms/step - loss: 0.0549 - acc: 0.9932 - val_loss: 0.2892 - val_acc: 0.9704\n",
      "Epoch 15/20\n",
      "60000/60000 [==============================] - 66s 1ms/step - loss: 0.0528 - acc: 0.9934 - val_loss: 0.2038 - val_acc: 0.9807\n",
      "Epoch 16/20\n",
      "60000/60000 [==============================] - 71s 1ms/step - loss: 0.0473 - acc: 0.9942 - val_loss: 0.2004 - val_acc: 0.9802\n",
      "Epoch 17/20\n",
      "60000/60000 [==============================] - 66s 1ms/step - loss: 0.0455 - acc: 0.9944 - val_loss: 0.2030 - val_acc: 0.9807\n",
      "Epoch 18/20\n",
      "60000/60000 [==============================] - 65s 1ms/step - loss: 0.0424 - acc: 0.9947 - val_loss: 0.2490 - val_acc: 0.9770\n",
      "Epoch 19/20\n",
      "60000/60000 [==============================] - 66s 1ms/step - loss: 0.0412 - acc: 0.9953 - val_loss: 0.2354 - val_acc: 0.9781\n",
      "Epoch 20/20\n",
      "60000/60000 [==============================] - 69s 1ms/step - loss: 0.0448 - acc: 0.9947 - val_loss: 0.1961 - val_acc: 0.9821\n"
     ]
    }
   ],
   "source": [
    "classifier = model.fit(x_train, y_train, batch_size = 32, epochs = 20, verbose = True, validation_data = (x_test, y_test))"
   ]
  },
  {
   "cell_type": "code",
   "execution_count": null,
   "metadata": {},
   "outputs": [],
   "source": []
  },
  {
   "cell_type": "code",
   "execution_count": null,
   "metadata": {},
   "outputs": [],
   "source": []
  }
 ],
 "metadata": {
  "kernelspec": {
   "display_name": "Python 2",
   "language": "python",
   "name": "python2"
  },
  "language_info": {
   "codemirror_mode": {
    "name": "ipython",
    "version": 2
   },
   "file_extension": ".py",
   "mimetype": "text/x-python",
   "name": "python",
   "nbconvert_exporter": "python",
   "pygments_lexer": "ipython2",
   "version": "2.7.12"
  }
 },
 "nbformat": 4,
 "nbformat_minor": 2
}
