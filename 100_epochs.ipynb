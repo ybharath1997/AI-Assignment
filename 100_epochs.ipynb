{
 "cells": [
  {
   "cell_type": "code",
   "execution_count": 1,
   "metadata": {},
   "outputs": [
    {
     "name": "stderr",
     "output_type": "stream",
     "text": [
      "Using TensorFlow backend.\n"
     ]
    }
   ],
   "source": [
    "import numpy as np \n",
    "import pandas as pd \n",
    "import matplotlib.pyplot as plt\n",
    "from sklearn.model_selection import train_test_split\n",
    "\n",
    "from keras.datasets import mnist\n",
    "from keras.models import Sequential\n",
    "from keras.callbacks import EarlyStopping\n",
    "from keras.optimizers import Adam ,RMSprop\n",
    "from keras.layers import Conv2D, MaxPooling2D\n",
    "from keras.utils.np_utils import to_categorical\n",
    "from keras.preprocessing.image import ImageDataGenerator\n",
    "from keras.layers import Dense, Dropout, Lambda, Flatten, Activation, Dropout\n",
    "\n",
    "%matplotlib inline"
   ]
  },
  {
   "cell_type": "code",
   "execution_count": 2,
   "metadata": {},
   "outputs": [],
   "source": [
    "(x_train, y_train), (x_test, y_test) = mnist.load_data()"
   ]
  },
  {
   "cell_type": "code",
   "execution_count": 3,
   "metadata": {},
   "outputs": [
    {
     "data": {
      "text/plain": [
       "(60000, 28, 28)"
      ]
     },
     "execution_count": 3,
     "metadata": {},
     "output_type": "execute_result"
    }
   ],
   "source": [
    "x_train.shape"
   ]
  },
  {
   "cell_type": "code",
   "execution_count": 4,
   "metadata": {},
   "outputs": [],
   "source": [
    "x_train = x_train.reshape(x_train.shape[0], 784).astype('float32')\n",
    "x_test = x_test.reshape(x_test.shape[0], 784).astype('float32')\n",
    "x_train /= 255\n",
    "x_test /= 255"
   ]
  },
  {
   "cell_type": "code",
   "execution_count": 5,
   "metadata": {},
   "outputs": [
    {
     "data": {
      "text/plain": [
       "(60000,)"
      ]
     },
     "execution_count": 5,
     "metadata": {},
     "output_type": "execute_result"
    }
   ],
   "source": [
    "number_of_classes = 10\n",
    "y_train.shape"
   ]
  },
  {
   "cell_type": "code",
   "execution_count": 6,
   "metadata": {},
   "outputs": [],
   "source": [
    "y_train = to_categorical(y_train,number_of_classes)\n",
    "y_test = to_categorical(y_test,number_of_classes)"
   ]
  },
  {
   "cell_type": "code",
   "execution_count": 7,
   "metadata": {},
   "outputs": [
    {
     "data": {
      "text/plain": [
       "(10000, 10)"
      ]
     },
     "execution_count": 7,
     "metadata": {},
     "output_type": "execute_result"
    }
   ],
   "source": [
    "y_test.shape"
   ]
  },
  {
   "cell_type": "code",
   "execution_count": 8,
   "metadata": {},
   "outputs": [],
   "source": [
    "#model\n",
    "model = Sequential()\n",
    "model.add(Dense(512, input_shape = (784,)))\n",
    "model.add(Activation('relu'))\n",
    "model.add(Dropout(0.2))\n",
    "\n",
    "model.add(Dense(512))\n",
    "model.add(Activation('relu'))\n",
    "model.add(Dropout(0.2))\n",
    "\n",
    "model.add(Dense(512))\n",
    "model.add(Activation('relu'))\n",
    "model.add(Dropout(0.2))\n",
    "\n",
    "model.add(Dense(512))\n",
    "model.add(Activation('relu'))\n",
    "model.add(Dropout(0.2))\n",
    "\n",
    "model.add(Dense(10))\n",
    "model.add(Activation('softmax'))\n",
    "\n",
    "model.compile(optimizer = 'adam', loss='categorical_crossentropy', metrics=['accuracy'])"
   ]
  },
  {
   "cell_type": "code",
   "execution_count": 9,
   "metadata": {
    "scrolled": false
   },
   "outputs": [
    {
     "name": "stdout",
     "output_type": "stream",
     "text": [
      "Train on 60000 samples, validate on 10000 samples\n",
      "Epoch 1/100\n",
      "60000/60000 [==============================] - 117s 2ms/step - loss: 0.2839 - acc: 0.9175 - val_loss: 0.1462 - val_acc: 0.9572\n",
      "Epoch 2/100\n",
      "60000/60000 [==============================] - 125s 2ms/step - loss: 0.1644 - acc: 0.9563 - val_loss: 0.1252 - val_acc: 0.9678\n",
      "Epoch 3/100\n",
      "60000/60000 [==============================] - 127s 2ms/step - loss: 0.1395 - acc: 0.9631 - val_loss: 0.1155 - val_acc: 0.9695\n",
      "Epoch 4/100\n",
      "60000/60000 [==============================] - 133s 2ms/step - loss: 0.1268 - acc: 0.9680 - val_loss: 0.1351 - val_acc: 0.9684\n",
      "Epoch 5/100\n",
      "60000/60000 [==============================] - 136s 2ms/step - loss: 0.1175 - acc: 0.9713 - val_loss: 0.1120 - val_acc: 0.9721\n",
      "Epoch 6/100\n",
      "60000/60000 [==============================] - 135s 2ms/step - loss: 0.1096 - acc: 0.9728 - val_loss: 0.1069 - val_acc: 0.9785\n",
      "Epoch 7/100\n",
      "60000/60000 [==============================] - 147s 2ms/step - loss: 0.1099 - acc: 0.9739 - val_loss: 0.0969 - val_acc: 0.9764\n",
      "Epoch 8/100\n",
      "60000/60000 [==============================] - 145s 2ms/step - loss: 0.1104 - acc: 0.9743 - val_loss: 0.1052 - val_acc: 0.9790\n",
      "Epoch 9/100\n",
      "60000/60000 [==============================] - 145s 2ms/step - loss: 0.1054 - acc: 0.9763 - val_loss: 0.0965 - val_acc: 0.9795\n",
      "Epoch 10/100\n",
      "60000/60000 [==============================] - 144s 2ms/step - loss: 0.0989 - acc: 0.9770 - val_loss: 0.1130 - val_acc: 0.9768\n",
      "Epoch 11/100\n",
      "60000/60000 [==============================] - 127s 2ms/step - loss: 0.1032 - acc: 0.9772 - val_loss: 0.1020 - val_acc: 0.9785\n",
      "Epoch 12/100\n",
      "60000/60000 [==============================] - 116s 2ms/step - loss: 0.1002 - acc: 0.9784 - val_loss: 0.1162 - val_acc: 0.9778\n",
      "Epoch 13/100\n",
      "60000/60000 [==============================] - 133s 2ms/step - loss: 0.0953 - acc: 0.9796 - val_loss: 0.1512 - val_acc: 0.9732\n",
      "Epoch 14/100\n",
      "60000/60000 [==============================] - 138s 2ms/step - loss: 0.0971 - acc: 0.9795 - val_loss: 0.1198 - val_acc: 0.9771\n",
      "Epoch 15/100\n",
      "60000/60000 [==============================] - 140s 2ms/step - loss: 0.0962 - acc: 0.9799 - val_loss: 0.1279 - val_acc: 0.9775\n",
      "Epoch 16/100\n",
      "60000/60000 [==============================] - 146s 2ms/step - loss: 0.0967 - acc: 0.9803 - val_loss: 0.1447 - val_acc: 0.9745\n",
      "Epoch 17/100\n",
      "60000/60000 [==============================] - 142s 2ms/step - loss: 0.0884 - acc: 0.9811 - val_loss: 0.1173 - val_acc: 0.9782\n",
      "Epoch 18/100\n",
      "60000/60000 [==============================] - 145s 2ms/step - loss: 0.1032 - acc: 0.9799 - val_loss: 0.1243 - val_acc: 0.9789\n",
      "Epoch 19/100\n",
      "60000/60000 [==============================] - 150s 2ms/step - loss: 0.0957 - acc: 0.9824 - val_loss: 0.1610 - val_acc: 0.9745\n",
      "Epoch 20/100\n",
      "60000/60000 [==============================] - 141s 2ms/step - loss: 0.1009 - acc: 0.9811 - val_loss: 0.1415 - val_acc: 0.9776\n",
      "Epoch 21/100\n",
      "60000/60000 [==============================] - 142s 2ms/step - loss: 0.0963 - acc: 0.9819 - val_loss: 0.1388 - val_acc: 0.9780\n",
      "Epoch 22/100\n",
      "60000/60000 [==============================] - 140s 2ms/step - loss: 0.0976 - acc: 0.9820 - val_loss: 0.1578 - val_acc: 0.9760\n",
      "Epoch 23/100\n",
      "60000/60000 [==============================] - 139s 2ms/step - loss: 0.1051 - acc: 0.9810 - val_loss: 0.1391 - val_acc: 0.9794\n",
      "Epoch 24/100\n",
      "60000/60000 [==============================] - 138s 2ms/step - loss: 0.1027 - acc: 0.9817 - val_loss: 0.1461 - val_acc: 0.9798\n",
      "Epoch 25/100\n",
      "60000/60000 [==============================] - 138s 2ms/step - loss: 0.1004 - acc: 0.9815 - val_loss: 0.1326 - val_acc: 0.9775\n",
      "Epoch 26/100\n",
      "60000/60000 [==============================] - 136s 2ms/step - loss: 0.1070 - acc: 0.9821 - val_loss: 0.1610 - val_acc: 0.9801\n",
      "Epoch 27/100\n",
      "60000/60000 [==============================] - 138s 2ms/step - loss: 0.1010 - acc: 0.9830 - val_loss: 0.1231 - val_acc: 0.9803\n",
      "Epoch 28/100\n",
      "60000/60000 [==============================] - 137s 2ms/step - loss: 0.0996 - acc: 0.9828 - val_loss: 0.1255 - val_acc: 0.9812\n",
      "Epoch 29/100\n",
      "60000/60000 [==============================] - 137s 2ms/step - loss: 0.0915 - acc: 0.9837 - val_loss: 0.1454 - val_acc: 0.9812\n",
      "Epoch 30/100\n",
      "60000/60000 [==============================] - 137s 2ms/step - loss: 0.1065 - acc: 0.9820 - val_loss: 0.1376 - val_acc: 0.9801\n",
      "Epoch 31/100\n",
      "60000/60000 [==============================] - 141s 2ms/step - loss: 0.1023 - acc: 0.9828 - val_loss: 0.1447 - val_acc: 0.9815\n",
      "Epoch 32/100\n",
      "60000/60000 [==============================] - 139s 2ms/step - loss: 0.1172 - acc: 0.9826 - val_loss: 0.1431 - val_acc: 0.9823\n",
      "Epoch 33/100\n",
      "60000/60000 [==============================] - 140s 2ms/step - loss: 0.1202 - acc: 0.9828 - val_loss: 0.1498 - val_acc: 0.9771\n",
      "Epoch 34/100\n",
      "60000/60000 [==============================] - 139s 2ms/step - loss: 0.1032 - acc: 0.9846 - val_loss: 0.1591 - val_acc: 0.9758\n",
      "Epoch 35/100\n",
      "60000/60000 [==============================] - 137s 2ms/step - loss: 0.1102 - acc: 0.9826 - val_loss: 0.1577 - val_acc: 0.9803\n",
      "Epoch 36/100\n",
      "60000/60000 [==============================] - 139s 2ms/step - loss: 0.0958 - acc: 0.9844 - val_loss: 0.1509 - val_acc: 0.9814\n",
      "Epoch 37/100\n",
      "60000/60000 [==============================] - 137s 2ms/step - loss: 0.1177 - acc: 0.9808 - val_loss: 0.1529 - val_acc: 0.9792\n",
      "Epoch 38/100\n",
      "60000/60000 [==============================] - 139s 2ms/step - loss: 0.1073 - acc: 0.9836 - val_loss: 0.1511 - val_acc: 0.9804\n",
      "Epoch 39/100\n",
      "60000/60000 [==============================] - 137s 2ms/step - loss: 0.1065 - acc: 0.9834 - val_loss: 0.1481 - val_acc: 0.9845\n",
      "Epoch 40/100\n",
      "60000/60000 [==============================] - 146s 2ms/step - loss: 0.1215 - acc: 0.9826 - val_loss: 0.1731 - val_acc: 0.9759\n",
      "Epoch 41/100\n",
      "60000/60000 [==============================] - 137s 2ms/step - loss: 0.1049 - acc: 0.9833 - val_loss: 0.1974 - val_acc: 0.9788\n",
      "Epoch 42/100\n",
      "60000/60000 [==============================] - 147s 2ms/step - loss: 0.1145 - acc: 0.9829 - val_loss: 0.2110 - val_acc: 0.9774\n",
      "Epoch 43/100\n",
      "60000/60000 [==============================] - 140s 2ms/step - loss: 0.1122 - acc: 0.9825 - val_loss: 0.1738 - val_acc: 0.9794\n",
      "Epoch 44/100\n",
      "60000/60000 [==============================] - 137s 2ms/step - loss: 0.1321 - acc: 0.9819 - val_loss: 0.1980 - val_acc: 0.9779\n",
      "Epoch 45/100\n",
      "60000/60000 [==============================] - 138s 2ms/step - loss: 0.1199 - acc: 0.9820 - val_loss: 0.1831 - val_acc: 0.9779\n",
      "Epoch 46/100\n",
      "60000/60000 [==============================] - 141s 2ms/step - loss: 0.1474 - acc: 0.9827 - val_loss: 0.2165 - val_acc: 0.9762\n",
      "Epoch 47/100\n",
      "60000/60000 [==============================] - 140s 2ms/step - loss: 0.1367 - acc: 0.9815 - val_loss: 0.2135 - val_acc: 0.9758\n",
      "Epoch 48/100\n",
      "60000/60000 [==============================] - 140s 2ms/step - loss: 0.1349 - acc: 0.9813 - val_loss: 0.1776 - val_acc: 0.9773\n",
      "Epoch 49/100\n",
      "60000/60000 [==============================] - 138s 2ms/step - loss: 0.1342 - acc: 0.9819 - val_loss: 0.2780 - val_acc: 0.9741\n",
      "Epoch 50/100\n",
      "60000/60000 [==============================] - 135s 2ms/step - loss: 0.1421 - acc: 0.9818 - val_loss: 0.2016 - val_acc: 0.9789\n",
      "Epoch 51/100\n",
      "60000/60000 [==============================] - 137s 2ms/step - loss: 0.1639 - acc: 0.9822 - val_loss: 0.1903 - val_acc: 0.9771\n",
      "Epoch 52/100\n",
      "60000/60000 [==============================] - 137s 2ms/step - loss: 0.1692 - acc: 0.9796 - val_loss: 0.2427 - val_acc: 0.9765\n",
      "Epoch 53/100\n",
      "60000/60000 [==============================] - 139s 2ms/step - loss: 0.1615 - acc: 0.9802 - val_loss: 0.2786 - val_acc: 0.9751\n",
      "Epoch 54/100\n",
      "60000/60000 [==============================] - 138s 2ms/step - loss: 0.1607 - acc: 0.9824 - val_loss: 0.2054 - val_acc: 0.9787\n",
      "Epoch 55/100\n",
      "60000/60000 [==============================] - 138s 2ms/step - loss: 0.1699 - acc: 0.9823 - val_loss: 0.2517 - val_acc: 0.9787\n",
      "Epoch 56/100\n",
      "60000/60000 [==============================] - 137s 2ms/step - loss: 0.1700 - acc: 0.9810 - val_loss: 0.1979 - val_acc: 0.9792\n",
      "Epoch 57/100\n",
      "60000/60000 [==============================] - 142s 2ms/step - loss: 0.1556 - acc: 0.9810 - val_loss: 0.2500 - val_acc: 0.9771\n",
      "Epoch 58/100\n",
      "60000/60000 [==============================] - 149s 2ms/step - loss: 0.1818 - acc: 0.9782 - val_loss: 0.2417 - val_acc: 0.9786\n",
      "Epoch 59/100\n"
     ]
    },
    {
     "name": "stdout",
     "output_type": "stream",
     "text": [
      "60000/60000 [==============================] - 129s 2ms/step - loss: 0.1731 - acc: 0.9795 - val_loss: 0.2960 - val_acc: 0.9764\n",
      "Epoch 60/100\n",
      "60000/60000 [==============================] - 131s 2ms/step - loss: 0.2036 - acc: 0.9750 - val_loss: 0.2214 - val_acc: 0.9775\n",
      "Epoch 61/100\n",
      "60000/60000 [==============================] - 137s 2ms/step - loss: 0.1720 - acc: 0.9777 - val_loss: 0.2661 - val_acc: 0.9705\n",
      "Epoch 62/100\n",
      "60000/60000 [==============================] - 129s 2ms/step - loss: 0.1937 - acc: 0.9772 - val_loss: 0.2272 - val_acc: 0.9776\n",
      "Epoch 63/100\n",
      "60000/60000 [==============================] - 131s 2ms/step - loss: 0.2139 - acc: 0.9798 - val_loss: 0.2460 - val_acc: 0.9754\n",
      "Epoch 64/100\n",
      "60000/60000 [==============================] - 127s 2ms/step - loss: 0.2148 - acc: 0.9787 - val_loss: 0.2806 - val_acc: 0.9751\n",
      "Epoch 65/100\n",
      "60000/60000 [==============================] - 125s 2ms/step - loss: 0.2103 - acc: 0.9754 - val_loss: 0.2188 - val_acc: 0.9709\n",
      "Epoch 66/100\n",
      "60000/60000 [==============================] - 128s 2ms/step - loss: 0.2517 - acc: 0.9739 - val_loss: 0.2360 - val_acc: 0.9710\n",
      "Epoch 67/100\n",
      "60000/60000 [==============================] - 129s 2ms/step - loss: 0.2309 - acc: 0.9743 - val_loss: 0.2702 - val_acc: 0.9749\n",
      "Epoch 68/100\n",
      "60000/60000 [==============================] - 133s 2ms/step - loss: 0.2107 - acc: 0.9770 - val_loss: 0.2553 - val_acc: 0.9741\n",
      "Epoch 69/100\n",
      "60000/60000 [==============================] - 132s 2ms/step - loss: 0.2390 - acc: 0.9735 - val_loss: 0.2702 - val_acc: 0.9745\n",
      "Epoch 70/100\n",
      "60000/60000 [==============================] - 131s 2ms/step - loss: 0.2543 - acc: 0.9746 - val_loss: 0.2667 - val_acc: 0.9748\n",
      "Epoch 71/100\n",
      "60000/60000 [==============================] - 132s 2ms/step - loss: 0.2327 - acc: 0.9705 - val_loss: 0.2809 - val_acc: 0.9691\n",
      "Epoch 72/100\n",
      "60000/60000 [==============================] - 132s 2ms/step - loss: 0.2260 - acc: 0.9717 - val_loss: 0.3444 - val_acc: 0.9676\n",
      "Epoch 73/100\n",
      "60000/60000 [==============================] - 136s 2ms/step - loss: 0.2643 - acc: 0.9715 - val_loss: 0.3017 - val_acc: 0.9734\n",
      "Epoch 74/100\n",
      "60000/60000 [==============================] - 127s 2ms/step - loss: 0.2854 - acc: 0.9670 - val_loss: 0.2525 - val_acc: 0.9686\n",
      "Epoch 75/100\n",
      "60000/60000 [==============================] - 132s 2ms/step - loss: 0.2918 - acc: 0.9690 - val_loss: 0.3219 - val_acc: 0.9643\n",
      "Epoch 76/100\n",
      "60000/60000 [==============================] - 131s 2ms/step - loss: 0.2493 - acc: 0.9732 - val_loss: 0.2491 - val_acc: 0.9733\n",
      "Epoch 77/100\n",
      "60000/60000 [==============================] - 131s 2ms/step - loss: 0.2758 - acc: 0.9725 - val_loss: 0.2910 - val_acc: 0.9677\n",
      "Epoch 78/100\n",
      "60000/60000 [==============================] - 134s 2ms/step - loss: 0.2631 - acc: 0.9690 - val_loss: 0.2872 - val_acc: 0.9701\n",
      "Epoch 79/100\n",
      "60000/60000 [==============================] - 134s 2ms/step - loss: 0.2432 - acc: 0.9702 - val_loss: 0.2666 - val_acc: 0.9776\n",
      "Epoch 80/100\n",
      "60000/60000 [==============================] - 135s 2ms/step - loss: 0.2865 - acc: 0.9690 - val_loss: 0.2629 - val_acc: 0.9712\n",
      "Epoch 81/100\n",
      "60000/60000 [==============================] - 131s 2ms/step - loss: 0.3142 - acc: 0.9596 - val_loss: 0.2812 - val_acc: 0.9631\n",
      "Epoch 82/100\n",
      "60000/60000 [==============================] - 135s 2ms/step - loss: 0.3100 - acc: 0.9654 - val_loss: 0.3178 - val_acc: 0.9730\n",
      "Epoch 83/100\n",
      "60000/60000 [==============================] - 129s 2ms/step - loss: 0.3655 - acc: 0.9670 - val_loss: 0.3212 - val_acc: 0.9719\n",
      "Epoch 84/100\n",
      "60000/60000 [==============================] - 147s 2ms/step - loss: 0.3549 - acc: 0.9690 - val_loss: 0.2957 - val_acc: 0.9764\n",
      "Epoch 85/100\n",
      "60000/60000 [==============================] - 131s 2ms/step - loss: 0.3321 - acc: 0.9715 - val_loss: 0.3346 - val_acc: 0.9708\n",
      "Epoch 86/100\n",
      "60000/60000 [==============================] - 131s 2ms/step - loss: 0.3450 - acc: 0.9616 - val_loss: 0.3230 - val_acc: 0.9569\n",
      "Epoch 87/100\n",
      "60000/60000 [==============================] - 134s 2ms/step - loss: 0.3643 - acc: 0.9579 - val_loss: 0.2730 - val_acc: 0.9685\n",
      "Epoch 88/100\n",
      "60000/60000 [==============================] - 122s 2ms/step - loss: 0.4038 - acc: 0.9669 - val_loss: 0.3879 - val_acc: 0.9717\n",
      "Epoch 89/100\n",
      "60000/60000 [==============================] - 161s 3ms/step - loss: 0.4275 - acc: 0.9680 - val_loss: 0.3385 - val_acc: 0.9753\n",
      "Epoch 90/100\n",
      "60000/60000 [==============================] - 222s 4ms/step - loss: 0.4044 - acc: 0.9612 - val_loss: 0.4593 - val_acc: 0.9617\n",
      "Epoch 91/100\n",
      "60000/60000 [==============================] - 231s 4ms/step - loss: 0.4227 - acc: 0.9558 - val_loss: 0.4085 - val_acc: 0.9632\n",
      "Epoch 92/100\n",
      "60000/60000 [==============================] - 232s 4ms/step - loss: 0.4988 - acc: 0.9561 - val_loss: 0.3995 - val_acc: 0.9616\n",
      "Epoch 93/100\n",
      "60000/60000 [==============================] - 251s 4ms/step - loss: 0.4919 - acc: 0.9575 - val_loss: 0.5128 - val_acc: 0.9546\n",
      "Epoch 94/100\n",
      "60000/60000 [==============================] - 239s 4ms/step - loss: 0.5172 - acc: 0.9579 - val_loss: 0.4510 - val_acc: 0.9648\n",
      "Epoch 95/100\n",
      "60000/60000 [==============================] - 227s 4ms/step - loss: 0.5275 - acc: 0.9543 - val_loss: 0.3028 - val_acc: 0.9694\n",
      "Epoch 96/100\n",
      "60000/60000 [==============================] - 198s 3ms/step - loss: 0.3554 - acc: 0.9611 - val_loss: 0.3329 - val_acc: 0.9602\n",
      "Epoch 97/100\n",
      "60000/60000 [==============================] - 120s 2ms/step - loss: 0.4668 - acc: 0.9539 - val_loss: 0.4835 - val_acc: 0.9373\n",
      "Epoch 98/100\n",
      "60000/60000 [==============================] - 122s 2ms/step - loss: 0.4657 - acc: 0.9329 - val_loss: 0.3492 - val_acc: 0.9615\n",
      "Epoch 99/100\n",
      "60000/60000 [==============================] - 123s 2ms/step - loss: 0.4765 - acc: 0.9485 - val_loss: 0.4551 - val_acc: 0.9587\n",
      "Epoch 100/100\n",
      "60000/60000 [==============================] - 141s 2ms/step - loss: 0.4228 - acc: 0.9595 - val_loss: 0.3509 - val_acc: 0.9701\n"
     ]
    }
   ],
   "source": [
    "classifier = model.fit(x_train, y_train, batch_size = 16, epochs = 100, verbose = True, validation_data = (x_test, y_test))"
   ]
  },
  {
   "cell_type": "code",
   "execution_count": null,
   "metadata": {
    "collapsed": true
   },
   "outputs": [],
   "source": []
  }
 ],
 "metadata": {
  "kernelspec": {
   "display_name": "Python 2",
   "language": "python",
   "name": "python2"
  },
  "language_info": {
   "codemirror_mode": {
    "name": "ipython",
    "version": 2
   },
   "file_extension": ".py",
   "mimetype": "text/x-python",
   "name": "python",
   "nbconvert_exporter": "python",
   "pygments_lexer": "ipython2",
   "version": "2.7.12"
  }
 },
 "nbformat": 4,
 "nbformat_minor": 2
}
