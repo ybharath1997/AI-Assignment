{
 "cells": [
  {
   "cell_type": "code",
   "execution_count": 24,
   "metadata": {},
   "outputs": [],
   "source": [
    "import numpy as np \n",
    "import pandas as pd \n",
    "import matplotlib.pyplot as plt\n",
    "from sklearn.model_selection import train_test_split\n",
    "\n",
    "from keras.datasets import mnist\n",
    "from keras.models import Sequential\n",
    "from keras.callbacks import EarlyStopping\n",
    "from keras.optimizers import *\n",
    "from keras.layers import Conv2D, MaxPooling2D\n",
    "from keras.utils.np_utils import to_categorical\n",
    "from keras.preprocessing.image import ImageDataGenerator\n",
    "from keras.layers import Dense, Dropout, Lambda, Flatten, Activation, Dropout\n",
    "\n",
    "%matplotlib inline"
   ]
  },
  {
   "cell_type": "raw",
   "metadata": {},
   "source": [
    "(x_train, y_train), (x_test, y_test) = mnist.load_data()"
   ]
  },
  {
   "cell_type": "code",
   "execution_count": 12,
   "metadata": {},
   "outputs": [
    {
     "data": {
      "text/plain": [
       "(60000, 28, 28)"
      ]
     },
     "execution_count": 12,
     "metadata": {},
     "output_type": "execute_result"
    }
   ],
   "source": [
    "x_train.shape"
   ]
  },
  {
   "cell_type": "code",
   "execution_count": 13,
   "metadata": {},
   "outputs": [],
   "source": [
    "x_train = x_train.reshape(x_train.shape[0], 784).astype('float32')\n",
    "x_test = x_test.reshape(x_test.shape[0], 784).astype('float32')\n",
    "x_train /= 255\n",
    "x_test /= 255"
   ]
  },
  {
   "cell_type": "code",
   "execution_count": 14,
   "metadata": {},
   "outputs": [
    {
     "data": {
      "text/plain": [
       "(60000,)"
      ]
     },
     "execution_count": 14,
     "metadata": {},
     "output_type": "execute_result"
    }
   ],
   "source": [
    "number_of_classes = 10\n",
    "y_train.shape"
   ]
  },
  {
   "cell_type": "code",
   "execution_count": 15,
   "metadata": {},
   "outputs": [],
   "source": [
    "y_train = to_categorical(y_train,number_of_classes)\n",
    "y_test = to_categorical(y_test,number_of_classes)"
   ]
  },
  {
   "cell_type": "code",
   "execution_count": 16,
   "metadata": {},
   "outputs": [
    {
     "data": {
      "text/plain": [
       "(10000, 10)"
      ]
     },
     "execution_count": 16,
     "metadata": {},
     "output_type": "execute_result"
    }
   ],
   "source": [
    "y_test.shape"
   ]
  },
  {
   "cell_type": "code",
   "execution_count": 27,
   "metadata": {},
   "outputs": [],
   "source": [
    "#model\n",
    "model = Sequential()\n",
    "model.add(Dense(784, input_shape = (784,)))\n",
    "model.add(Activation('tanh'))\n",
    "\n",
    "model.add(Dense(784))\n",
    "model.add(Activation('tanh'))\n",
    "\n",
    "model.add(Dense(10))\n",
    "model.add(Activation('softmax'))\n",
    "\n",
    "model.compile(optimizer = 'adam', loss='categorical_crossentropy', metrics=['accuracy'])"
   ]
  },
  {
   "cell_type": "code",
   "execution_count": 28,
   "metadata": {
    "scrolled": false
   },
   "outputs": [
    {
     "name": "stdout",
     "output_type": "stream",
     "text": [
      "Train on 60000 samples, validate on 10000 samples\n",
      "Epoch 1/20\n",
      "60000/60000 [==============================] - 70s 1ms/step - loss: 0.2582 - acc: 0.9223 - val_loss: 0.1424 - val_acc: 0.9589\n",
      "Epoch 2/20\n",
      "60000/60000 [==============================] - 73s 1ms/step - loss: 0.1218 - acc: 0.9623 - val_loss: 0.1012 - val_acc: 0.9684\n",
      "Epoch 3/20\n",
      "60000/60000 [==============================] - 75s 1ms/step - loss: 0.0900 - acc: 0.9721 - val_loss: 0.0995 - val_acc: 0.9712\n",
      "Epoch 4/20\n",
      "60000/60000 [==============================] - 75s 1ms/step - loss: 0.0730 - acc: 0.9770 - val_loss: 0.0842 - val_acc: 0.9738\n",
      "Epoch 5/20\n",
      "60000/60000 [==============================] - 75s 1ms/step - loss: 0.0606 - acc: 0.9802 - val_loss: 0.0998 - val_acc: 0.9705\n",
      "Epoch 6/20\n",
      "60000/60000 [==============================] - 73s 1ms/step - loss: 0.0508 - acc: 0.9834 - val_loss: 0.0888 - val_acc: 0.9741\n",
      "Epoch 7/20\n",
      "60000/60000 [==============================] - 78s 1ms/step - loss: 0.0471 - acc: 0.9848 - val_loss: 0.0850 - val_acc: 0.9769\n",
      "Epoch 8/20\n",
      "60000/60000 [==============================] - 74s 1ms/step - loss: 0.0401 - acc: 0.9863 - val_loss: 0.0803 - val_acc: 0.9772\n",
      "Epoch 9/20\n",
      "60000/60000 [==============================] - 76s 1ms/step - loss: 0.0379 - acc: 0.9880 - val_loss: 0.0946 - val_acc: 0.9739\n",
      "Epoch 10/20\n",
      "60000/60000 [==============================] - 76s 1ms/step - loss: 0.0351 - acc: 0.9881 - val_loss: 0.0990 - val_acc: 0.9743\n",
      "Epoch 11/20\n",
      "60000/60000 [==============================] - 77s 1ms/step - loss: 0.0304 - acc: 0.9904 - val_loss: 0.1016 - val_acc: 0.9774\n",
      "Epoch 12/20\n",
      "60000/60000 [==============================] - 79s 1ms/step - loss: 0.0298 - acc: 0.9906 - val_loss: 0.0969 - val_acc: 0.9765\n",
      "Epoch 13/20\n",
      "60000/60000 [==============================] - 79s 1ms/step - loss: 0.0273 - acc: 0.9910 - val_loss: 0.1066 - val_acc: 0.9743\n",
      "Epoch 14/20\n",
      "60000/60000 [==============================] - 78s 1ms/step - loss: 0.0284 - acc: 0.9905 - val_loss: 0.1091 - val_acc: 0.9754\n",
      "Epoch 15/20\n",
      "60000/60000 [==============================] - 74s 1ms/step - loss: 0.0273 - acc: 0.9910 - val_loss: 0.1164 - val_acc: 0.9732\n",
      "Epoch 16/20\n",
      "60000/60000 [==============================] - 78s 1ms/step - loss: 0.0235 - acc: 0.9922 - val_loss: 0.1126 - val_acc: 0.9744\n",
      "Epoch 17/20\n",
      "60000/60000 [==============================] - 76s 1ms/step - loss: 0.0235 - acc: 0.9926 - val_loss: 0.1015 - val_acc: 0.9767\n",
      "Epoch 18/20\n",
      "60000/60000 [==============================] - 74s 1ms/step - loss: 0.0247 - acc: 0.9922 - val_loss: 0.0967 - val_acc: 0.9774\n",
      "Epoch 19/20\n",
      "60000/60000 [==============================] - 75s 1ms/step - loss: 0.0231 - acc: 0.9925 - val_loss: 0.1001 - val_acc: 0.9778\n",
      "Epoch 20/20\n",
      "60000/60000 [==============================] - 80s 1ms/step - loss: 0.0229 - acc: 0.9925 - val_loss: 0.1163 - val_acc: 0.9754\n"
     ]
    }
   ],
   "source": [
    "classifier = model.fit(x_train, y_train, batch_size = 32, epochs = 20, verbose = True, validation_data = (x_test, y_test))"
   ]
  },
  {
   "cell_type": "code",
   "execution_count": null,
   "metadata": {},
   "outputs": [],
   "source": []
  },
  {
   "cell_type": "code",
   "execution_count": null,
   "metadata": {},
   "outputs": [],
   "source": []
  }
 ],
 "metadata": {
  "kernelspec": {
   "display_name": "Python 2",
   "language": "python",
   "name": "python2"
  },
  "language_info": {
   "codemirror_mode": {
    "name": "ipython",
    "version": 2
   },
   "file_extension": ".py",
   "mimetype": "text/x-python",
   "name": "python",
   "nbconvert_exporter": "python",
   "pygments_lexer": "ipython2",
   "version": "2.7.12"
  }
 },
 "nbformat": 4,
 "nbformat_minor": 2
}
