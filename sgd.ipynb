{
 "cells": [
  {
   "cell_type": "code",
   "execution_count": 10,
   "metadata": {},
   "outputs": [],
   "source": [
    "import numpy as np \n",
    "import pandas as pd \n",
    "import matplotlib.pyplot as plt\n",
    "from sklearn.model_selection import train_test_split\n",
    "\n",
    "from keras.datasets import mnist\n",
    "from keras.models import Sequential\n",
    "from keras.callbacks import EarlyStopping\n",
    "from keras.optimizers import Adam ,RMSprop\n",
    "from keras.layers import Conv2D, MaxPooling2D\n",
    "from keras.utils.np_utils import to_categorical\n",
    "from keras.preprocessing.image import ImageDataGenerator\n",
    "from keras.layers import Dense, Dropout, Lambda, Flatten, Activation, Dropout\n",
    "\n",
    "%matplotlib inline"
   ]
  },
  {
   "cell_type": "code",
   "execution_count": 11,
   "metadata": {},
   "outputs": [],
   "source": [
    "(x_train, y_train), (x_test, y_test) = mnist.load_data()"
   ]
  },
  {
   "cell_type": "code",
   "execution_count": 12,
   "metadata": {},
   "outputs": [
    {
     "data": {
      "text/plain": [
       "(60000, 28, 28)"
      ]
     },
     "execution_count": 12,
     "metadata": {},
     "output_type": "execute_result"
    }
   ],
   "source": [
    "x_train.shape"
   ]
  },
  {
   "cell_type": "code",
   "execution_count": 13,
   "metadata": {},
   "outputs": [],
   "source": [
    "x_train = x_train.reshape(x_train.shape[0], 784).astype('float32')\n",
    "x_test = x_test.reshape(x_test.shape[0], 784).astype('float32')\n",
    "x_train /= 255\n",
    "x_test /= 255"
   ]
  },
  {
   "cell_type": "code",
   "execution_count": 14,
   "metadata": {},
   "outputs": [
    {
     "data": {
      "text/plain": [
       "(60000,)"
      ]
     },
     "execution_count": 14,
     "metadata": {},
     "output_type": "execute_result"
    }
   ],
   "source": [
    "number_of_classes = 10\n",
    "y_train.shape"
   ]
  },
  {
   "cell_type": "code",
   "execution_count": 15,
   "metadata": {},
   "outputs": [],
   "source": [
    "y_train = to_categorical(y_train,number_of_classes)\n",
    "y_test = to_categorical(y_test,number_of_classes)"
   ]
  },
  {
   "cell_type": "code",
   "execution_count": 16,
   "metadata": {},
   "outputs": [
    {
     "data": {
      "text/plain": [
       "(10000, 10)"
      ]
     },
     "execution_count": 16,
     "metadata": {},
     "output_type": "execute_result"
    }
   ],
   "source": [
    "y_test.shape"
   ]
  },
  {
   "cell_type": "code",
   "execution_count": 21,
   "metadata": {},
   "outputs": [],
   "source": [
    "#model\n",
    "model = Sequential()\n",
    "model.add(Dense(784, input_shape = (784,)))\n",
    "model.add(Activation('relu'))\n",
    "\n",
    "model.add(Dense(784))\n",
    "model.add(Activation('relu'))\n",
    "\n",
    "model.add(Dense(10))\n",
    "model.add(Activation('softmax'))\n",
    "\n",
    "model.compile(optimizer = 'sgd', loss='categorical_crossentropy', metrics=['accuracy'])"
   ]
  },
  {
   "cell_type": "code",
   "execution_count": 22,
   "metadata": {
    "scrolled": true
   },
   "outputs": [
    {
     "name": "stdout",
     "output_type": "stream",
     "text": [
      "Train on 60000 samples, validate on 10000 samples\n",
      "Epoch 1/10\n",
      "60000/60000 [==============================] - 35s 581us/step - loss: 0.5468 - acc: 0.8635 - val_loss: 0.2840 - val_acc: 0.9211\n",
      "Epoch 2/10\n",
      "60000/60000 [==============================] - 37s 614us/step - loss: 0.2661 - acc: 0.9245 - val_loss: 0.2358 - val_acc: 0.9344\n",
      "Epoch 3/10\n",
      "60000/60000 [==============================] - 39s 653us/step - loss: 0.2155 - acc: 0.9388 - val_loss: 0.1898 - val_acc: 0.9468\n",
      "Epoch 4/10\n",
      "60000/60000 [==============================] - 40s 671us/step - loss: 0.1819 - acc: 0.9487 - val_loss: 0.1694 - val_acc: 0.9507\n",
      "Epoch 5/10\n",
      "60000/60000 [==============================] - 45s 748us/step - loss: 0.1572 - acc: 0.9552 - val_loss: 0.1473 - val_acc: 0.9579\n",
      "Epoch 6/10\n",
      "60000/60000 [==============================] - 48s 797us/step - loss: 0.1380 - acc: 0.9608 - val_loss: 0.1328 - val_acc: 0.9615\n",
      "Epoch 7/10\n",
      "60000/60000 [==============================] - 49s 823us/step - loss: 0.1225 - acc: 0.9658 - val_loss: 0.1220 - val_acc: 0.9647\n",
      "Epoch 8/10\n",
      "60000/60000 [==============================] - 48s 794us/step - loss: 0.1103 - acc: 0.9689 - val_loss: 0.1187 - val_acc: 0.9658\n",
      "Epoch 9/10\n",
      "60000/60000 [==============================] - 51s 842us/step - loss: 0.0997 - acc: 0.9726 - val_loss: 0.1054 - val_acc: 0.9686\n",
      "Epoch 10/10\n",
      "60000/60000 [==============================] - 47s 788us/step - loss: 0.0905 - acc: 0.9748 - val_loss: 0.1040 - val_acc: 0.9703\n"
     ]
    }
   ],
   "source": [
    "classifier = model.fit(x_train, y_train, batch_size = 32, epochs = 10, verbose = True, validation_data = (x_test, y_test))"
   ]
  },
  {
   "cell_type": "code",
   "execution_count": null,
   "metadata": {
    "collapsed": true
   },
   "outputs": [],
   "source": []
  }
 ],
 "metadata": {
  "kernelspec": {
   "display_name": "Python 2",
   "language": "python",
   "name": "python2"
  },
  "language_info": {
   "codemirror_mode": {
    "name": "ipython",
    "version": 2
   },
   "file_extension": ".py",
   "mimetype": "text/x-python",
   "name": "python",
   "nbconvert_exporter": "python",
   "pygments_lexer": "ipython2",
   "version": "2.7.12"
  }
 },
 "nbformat": 4,
 "nbformat_minor": 2
}
