{
 "cells": [
  {
   "cell_type": "code",
   "execution_count": 10,
   "metadata": {},
   "outputs": [],
   "source": [
    "import numpy as np \n",
    "import pandas as pd \n",
    "import matplotlib.pyplot as plt\n",
    "from sklearn.model_selection import train_test_split\n",
    "\n",
    "from keras.datasets import mnist\n",
    "from keras.models import Sequential\n",
    "from keras.callbacks import EarlyStopping\n",
    "from keras.optimizers import Adam ,RMSprop\n",
    "from keras.layers import Conv2D, MaxPooling2D\n",
    "from keras.utils.np_utils import to_categorical\n",
    "from keras.preprocessing.image import ImageDataGenerator\n",
    "from keras.layers import Dense, Dropout, Lambda, Flatten, Activation, Dropout\n",
    "\n",
    "%matplotlib inline"
   ]
  },
  {
   "cell_type": "code",
   "execution_count": 11,
   "metadata": {},
   "outputs": [],
   "source": [
    "(x_train, y_train), (x_test, y_test) = mnist.load_data()"
   ]
  },
  {
   "cell_type": "code",
   "execution_count": 12,
   "metadata": {},
   "outputs": [
    {
     "data": {
      "text/plain": [
       "(60000, 28, 28)"
      ]
     },
     "execution_count": 12,
     "metadata": {},
     "output_type": "execute_result"
    }
   ],
   "source": [
    "x_train.shape"
   ]
  },
  {
   "cell_type": "code",
   "execution_count": 13,
   "metadata": {},
   "outputs": [],
   "source": [
    "x_train = x_train.reshape(x_train.shape[0], 784).astype('float32')\n",
    "x_test = x_test.reshape(x_test.shape[0], 784).astype('float32')\n",
    "x_train /= 255\n",
    "x_test /= 255"
   ]
  },
  {
   "cell_type": "code",
   "execution_count": 14,
   "metadata": {},
   "outputs": [
    {
     "data": {
      "text/plain": [
       "(60000,)"
      ]
     },
     "execution_count": 14,
     "metadata": {},
     "output_type": "execute_result"
    }
   ],
   "source": [
    "number_of_classes = 10\n",
    "y_train.shape"
   ]
  },
  {
   "cell_type": "code",
   "execution_count": 15,
   "metadata": {},
   "outputs": [],
   "source": [
    "y_train = to_categorical(y_train,number_of_classes)\n",
    "y_test = to_categorical(y_test,number_of_classes)"
   ]
  },
  {
   "cell_type": "code",
   "execution_count": 16,
   "metadata": {},
   "outputs": [
    {
     "data": {
      "text/plain": [
       "(10000, 10)"
      ]
     },
     "execution_count": 16,
     "metadata": {},
     "output_type": "execute_result"
    }
   ],
   "source": [
    "y_test.shape"
   ]
  },
  {
   "cell_type": "code",
   "execution_count": 21,
   "metadata": {},
   "outputs": [],
   "source": [
    "#model\n",
    "model = Sequential()\n",
    "model.add(Dense(784, input_shape = (784,)))\n",
    "model.add(Activation('relu'))\n",
    "\n",
    "model.add(Dense(784))\n",
    "model.add(Activation('relu'))\n",
    "\n",
    "model.add(Dense(10))\n",
    "model.add(Activation('softmax'))\n",
    "\n",
    "model.compile(optimizer = 'adadelta', loss='categorical_crossentropy', metrics=['accuracy'])"
   ]
  },
  {
   "cell_type": "code",
   "execution_count": 23,
   "metadata": {
    "scrolled": true
   },
   "outputs": [
    {
     "name": "stdout",
     "output_type": "stream",
     "text": [
      "Train on 60000 samples, validate on 10000 samples\n",
      "Epoch 1/20\n",
      "60000/60000 [==============================] - 37s 612us/step - loss: 0.0832 - acc: 0.9774 - val_loss: 0.0955 - val_acc: 0.9722\n",
      "Epoch 2/20\n",
      "60000/60000 [==============================] - 40s 661us/step - loss: 0.0763 - acc: 0.9790 - val_loss: 0.0905 - val_acc: 0.9736\n",
      "Epoch 3/20\n",
      "60000/60000 [==============================] - 44s 733us/step - loss: 0.0704 - acc: 0.9808 - val_loss: 0.0966 - val_acc: 0.9714\n",
      "Epoch 4/20\n",
      "60000/60000 [==============================] - 44s 736us/step - loss: 0.0648 - acc: 0.9823 - val_loss: 0.0829 - val_acc: 0.9751\n",
      "Epoch 5/20\n",
      "60000/60000 [==============================] - 47s 781us/step - loss: 0.0603 - acc: 0.9837 - val_loss: 0.0828 - val_acc: 0.9750\n",
      "Epoch 6/20\n",
      "60000/60000 [==============================] - 49s 812us/step - loss: 0.0559 - acc: 0.9847 - val_loss: 0.0765 - val_acc: 0.9768\n",
      "Epoch 7/20\n",
      "60000/60000 [==============================] - 48s 804us/step - loss: 0.0516 - acc: 0.9865 - val_loss: 0.0741 - val_acc: 0.9776\n",
      "Epoch 8/20\n",
      "60000/60000 [==============================] - 59s 980us/step - loss: 0.0483 - acc: 0.9874 - val_loss: 0.0749 - val_acc: 0.9779\n",
      "Epoch 9/20\n",
      "60000/60000 [==============================] - 50s 833us/step - loss: 0.0450 - acc: 0.9883 - val_loss: 0.0750 - val_acc: 0.9782\n",
      "Epoch 10/20\n",
      "60000/60000 [==============================] - 49s 818us/step - loss: 0.0421 - acc: 0.9894 - val_loss: 0.0711 - val_acc: 0.9785\n",
      "Epoch 11/20\n",
      "60000/60000 [==============================] - 48s 807us/step - loss: 0.0391 - acc: 0.9907 - val_loss: 0.0693 - val_acc: 0.9778\n",
      "Epoch 12/20\n",
      "60000/60000 [==============================] - 54s 899us/step - loss: 0.0366 - acc: 0.9911 - val_loss: 0.0699 - val_acc: 0.9794\n",
      "Epoch 13/20\n",
      "60000/60000 [==============================] - 51s 850us/step - loss: 0.0344 - acc: 0.9918 - val_loss: 0.0675 - val_acc: 0.9784\n",
      "Epoch 14/20\n",
      "60000/60000 [==============================] - 55s 911us/step - loss: 0.0324 - acc: 0.9922 - val_loss: 0.0685 - val_acc: 0.9790\n",
      "Epoch 15/20\n",
      "60000/60000 [==============================] - 54s 903us/step - loss: 0.0300 - acc: 0.9933 - val_loss: 0.0677 - val_acc: 0.9795\n",
      "Epoch 16/20\n",
      "60000/60000 [==============================] - 51s 852us/step - loss: 0.0282 - acc: 0.9937 - val_loss: 0.0647 - val_acc: 0.9800\n",
      "Epoch 17/20\n",
      "60000/60000 [==============================] - 55s 913us/step - loss: 0.0265 - acc: 0.9941 - val_loss: 0.0668 - val_acc: 0.9800\n",
      "Epoch 18/20\n",
      "60000/60000 [==============================] - 51s 852us/step - loss: 0.0247 - acc: 0.9948 - val_loss: 0.0649 - val_acc: 0.9796\n",
      "Epoch 19/20\n",
      "60000/60000 [==============================] - 56s 931us/step - loss: 0.0231 - acc: 0.9954 - val_loss: 0.0633 - val_acc: 0.9798\n",
      "Epoch 20/20\n",
      "60000/60000 [==============================] - 54s 906us/step - loss: 0.0218 - acc: 0.9959 - val_loss: 0.0633 - val_acc: 0.9804\n"
     ]
    }
   ],
   "source": [
    "classifier = model.fit(x_train, y_train, batch_size = 32, epochs = 20, verbose = True, validation_data = (x_test, y_test))"
   ]
  },
  {
   "cell_type": "code",
   "execution_count": null,
   "metadata": {},
   "outputs": [],
   "source": []
  },
  {
   "cell_type": "code",
   "execution_count": null,
   "metadata": {},
   "outputs": [],
   "source": []
  }
 ],
 "metadata": {
  "kernelspec": {
   "display_name": "Python 2",
   "language": "python",
   "name": "python2"
  },
  "language_info": {
   "codemirror_mode": {
    "name": "ipython",
    "version": 2
   },
   "file_extension": ".py",
   "mimetype": "text/x-python",
   "name": "python",
   "nbconvert_exporter": "python",
   "pygments_lexer": "ipython2",
   "version": "2.7.12"
  }
 },
 "nbformat": 4,
 "nbformat_minor": 2
}
